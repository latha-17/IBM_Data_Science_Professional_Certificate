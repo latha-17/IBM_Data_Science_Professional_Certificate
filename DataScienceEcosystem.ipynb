{
  "cells": [
    {
      "cell_type": "markdown",
      "metadata": {
        "id": "j-eOYTu0FTju"
      },
      "source": [
        "<center>\n",
        "    <img src=\"https://cf-courses-data.s3.us.cloud-object-storage.appdomain.cloud/IBMDeveloperSkillsNetwork-DS0105EN-SkillsNetwork/labs/Module2/images/SN_web_lightmode.png\" width=\"300\" alt=\"cognitiveclass.ai logo\">\n",
        "</center>"
      ]
    },
    {
      "cell_type": "markdown",
      "metadata": {
        "id": "O9gz3M1eFcNH"
      },
      "source": [
        "# Data Science Tools and Ecosystem"
      ]
    },
    {
      "cell_type": "markdown",
      "metadata": {
        "id": "Rs1kUxQeFwrY"
      },
      "source": [
        "In this notebook, Data Science Tools and Ecosystems are summarized."
      ]
    },
    {
      "cell_type": "markdown",
      "metadata": {
        "id": "U3vXwDp1FttB"
      },
      "source": [
        "**Objectives:**\n",
        "* List popular languages for Data Science.\n",
        "* List some of the commonly used libraries in Data Science.\n",
        "* List some of the Development Environment open source tools used in Data Science"
      ]
    },
    {
      "cell_type": "markdown",
      "metadata": {
        "id": "Pp3hem6OF--_"
      },
      "source": [
        "Some of the popular languages that Data Scientists use are:\n",
        "1. Python\n",
        "2. R\n",
        "3. Java\n",
        "4. Scala\n",
        "5. C++      \n",
        "\n"
      ]
    },
    {
      "cell_type": "markdown",
      "metadata": {
        "id": "VEBfFB_yGN8j"
      },
      "source": [
        "Some of the commonly used libraries used by Data Scientists include:\n",
        "1. Pandas\n",
        "2. Numpy\n",
        "3. Seaborn\n",
        "4. Matplotlib\n",
        "\n"
      ]
    },
    {
      "cell_type": "markdown",
      "metadata": {
        "id": "y6GgmnrqGZgs"
      },
      "source": [
        "| Data Science Tools |\n",
        "| ------------------ |\n",
        "| Jupyter Notebook   |\n",
        "| RStudio            |\n",
        "| VS Code            |            \n",
        "\n"
      ]
    },
    {
      "cell_type": "markdown",
      "metadata": {
        "id": "NReChB4JGgpn"
      },
      "source": [
        "### Below are a few examples of evaluating arithmetic expessions in Python.\n",
        "\n"
      ]
    },
    {
      "cell_type": "code",
      "execution_count": 1,
      "metadata": {
        "colab": {
          "base_uri": "https://localhost:8080/"
        },
        "id": "Lgmx1MYmGmXA",
        "outputId": "aacb7fa7-9542-4e44-a738-802fad9dd133"
      },
      "outputs": [
        {
          "data": {
            "text/plain": [
              "17"
            ]
          },
          "execution_count": 1,
          "metadata": {},
          "output_type": "execute_result"
        }
      ],
      "source": [
        "# This a simple arithmetic expression to mutiply then add integers.\n",
        "(3*4)+5"
      ]
    },
    {
      "cell_type": "code",
      "execution_count": 2,
      "metadata": {
        "colab": {
          "base_uri": "https://localhost:8080/"
        },
        "id": "IXv0yZ1-Gss8",
        "outputId": "c5ce1971-ab5a-4595-f17c-c9edf0323ee2"
      },
      "outputs": [
        {
          "data": {
            "text/plain": [
              "3.3333333333333335"
            ]
          },
          "execution_count": 2,
          "metadata": {},
          "output_type": "execute_result"
        }
      ],
      "source": [
        "# This will convert 200 minutes tohours by diving by 60.\n",
        "200/60"
      ]
    },
    {
      "cell_type": "markdown",
      "metadata": {
        "id": "VIKOqEgiGwp7"
      },
      "source": [
        "## Author\n",
        "Latha M\n",
        "\n"
      ]
    }
  ],
  "metadata": {
    "colab": {
      "provenance": []
    },
    "kernelspec": {
      "display_name": "Python 3",
      "name": "python3"
    },
    "language_info": {
      "name": "python"
    }
  },
  "nbformat": 4,
  "nbformat_minor": 0
}
